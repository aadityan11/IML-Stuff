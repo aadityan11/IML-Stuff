{
 "cells": [
  {
   "cell_type": "code",
   "execution_count": null,
   "id": "54d75454",
   "metadata": {},
   "outputs": [],
   "source": [
    "import torch\n",
    "\n",
    "DEVICE = torch.device( 'cuda:0' if torch.cuda.is_available() else 'cpu')\n",
    "MODEL_TYPE = 'vit_h'"
   ]
  },
  {
   "cell_type": "code",
   "execution_count": null,
   "id": "456d30f3",
   "metadata": {},
   "outputs": [],
   "source": []
  }
 ],
 "metadata": {
  "kernelspec": {
   "display_name": "Python 3 (ipykernel)",
   "language": "python",
   "name": "python3"
  }
 },
 "nbformat": 4,
 "nbformat_minor": 5
}
